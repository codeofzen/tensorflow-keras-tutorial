{
 "cells": [
  {
   "cell_type": "code",
   "execution_count": 4,
   "metadata": {
    "collapsed": false
   },
   "outputs": [],
   "source": [
    "import os\n",
    "import numpy as np\n",
    "\n",
    "from keras.applications.inception_v3 import InceptionV3\n",
    "from keras.preprocessing import image\n",
    "from keras.models import Model\n",
    "from keras.layers import Dense, GlobalAveragePooling2D\n",
    "from keras import backend as K"
   ]
  },
  {
   "cell_type": "markdown",
   "metadata": {},
   "source": [
    "# Preprocess the data"
   ]
  },
  {
   "cell_type": "code",
   "execution_count": 22,
   "metadata": {
    "collapsed": true
   },
   "outputs": [],
   "source": [
    "input_path_train = './data/train/'\n",
    "input_path_test = './data/test1/'\n",
    "\n",
    "label_cat = 0\n",
    "label_dog = 1"
   ]
  },
  {
   "cell_type": "code",
   "execution_count": 59,
   "metadata": {
    "collapsed": false
   },
   "outputs": [],
   "source": [
    "# Read the training dataset and return both input-filenames and the corresponding labels\n",
    "def read_train_dataset(path):\n",
    "    \"\"\"Returns a list of filenames and labels for the training dataset\"\"\"\n",
    "    \n",
    "    files = os.listdir(path)\n",
    "    data = [ (path + f, f.split('.')[0]) for f in files]\n",
    "    \n",
    "    inputs = [f for f, l in data]\n",
    "    labels = [label_cat if l == 'cat' else label_dog for f, l in data]\n",
    "    \n",
    "    return (inputs, labels)\n",
    "\n",
    "\n",
    "# Read the testing dataset which consists only of the input-filenames\n",
    "def read_test_dataset(path):\n",
    "    \"\"\"Returns a list of filenames for the testing dataset\"\"\"\n",
    "    \n",
    "    files = os.listdir(path)\n",
    "    files = [ path + f for f in files]\n",
    "    return files\n",
    "    "
   ]
  },
  {
   "cell_type": "code",
   "execution_count": 62,
   "metadata": {
    "collapsed": false
   },
   "outputs": [
    {
     "name": "stdout",
     "output_type": "stream",
     "text": [
      "['./data/train/cat.0.jpg', './data/train/cat.1.jpg', './data/train/cat.10.jpg']\n",
      "[0, 0, 0]\n"
     ]
    }
   ],
   "source": [
    "files, labels = read_train_dataset(input_path_train)\n",
    "print(files[:3])\n",
    "print(labels[:3])"
   ]
  },
  {
   "cell_type": "markdown",
   "metadata": {},
   "source": [
    "# Training the model"
   ]
  },
  {
   "cell_type": "code",
   "execution_count": null,
   "metadata": {
    "collapsed": true
   },
   "outputs": [],
   "source": []
  }
 ],
 "metadata": {
  "kernelspec": {
   "display_name": "Python 3",
   "language": "python",
   "name": "python3"
  },
  "language_info": {
   "codemirror_mode": {
    "name": "ipython",
    "version": 3
   },
   "file_extension": ".py",
   "mimetype": "text/x-python",
   "name": "python",
   "nbconvert_exporter": "python",
   "pygments_lexer": "ipython3",
   "version": "3.5.2"
  }
 },
 "nbformat": 4,
 "nbformat_minor": 2
}
